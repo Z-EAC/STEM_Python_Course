{
 "cells": [
  {
   "cell_type": "markdown",
   "metadata": {},
   "source": [
    "In Python, there is often something that you want to be able to do that someone else has already figured out. For example, you may want to read an excel file, or plot some data, or calculate some statistic. You don't need to start from scratch and write an entire script that accomplishes tasks like this. Instead you can do what's called an ``import``, which basically gives you access to code that someone else has written. To do this, you just need to know the name of the ``package``, and the name of the ``function`` you want to use. In this activity, you'll use what you learned about reading documentation to implement code written by someone else, that you can use for your own purposes. "
   ]
  },
  {
   "cell_type": "markdown",
   "metadata": {},
   "source": [
    "# NumPy\n",
    "You will use what you learned about finding the correct documentation and code help to implement functions inside of the NumPy package. Note while searching online for information about Numpy that it is often abbreviated as ``np``. "
   ]
  },
  {
   "cell_type": "markdown",
   "metadata": {},
   "source": [
    "Consider your grocery list from previous activities. This time, suppose you're keeping track of the cost of apples over time. You go to the store 5 times, and each time you record the price of apples:"
   ]
  },
  {
   "cell_type": "code",
   "execution_count": null,
   "metadata": {},
   "outputs": [],
   "source": [
    "apples_price = [1.34,2.01,1.75,1.50,2.50]"
   ]
  },
  {
   "cell_type": "code",
   "execution_count": 1,
   "metadata": {},
   "outputs": [
    {
     "name": "stdout",
     "output_type": "stream",
     "text": [
      "Collecting xlrd\n",
      "  Downloading xlrd-1.2.0-py2.py3-none-any.whl (103 kB)\n",
      "\u001b[K     |████████████████████████████████| 103 kB 3.3 MB/s eta 0:00:01\n",
      "\u001b[?25hInstalling collected packages: xlrd\n",
      "Successfully installed xlrd-1.2.0\n"
     ]
    }
   ],
   "source": [
    "!pip install xlrd"
   ]
  },
  {
   "cell_type": "markdown",
   "metadata": {},
   "source": [
    "Turn this list into a Numpy array. First figure out how to ``import`` Numpy correctly, then how to turn this into a Numpy array. "
   ]
  },
  {
   "cell_type": "code",
   "execution_count": 3,
   "metadata": {},
   "outputs": [],
   "source": [
    "#add import here\n",
    "import numpy as np\n",
    "#then create your array\n",
    "apples_price = [1.34,2.01,1.75,1.50,2.50]\n",
    "apples_price_array = np.array(apples_price)"
   ]
  },
  {
   "cell_type": "markdown",
   "metadata": {},
   "source": [
    "Whoops, you made a mistake and wrote down the price for 2 apples each time instead of 1! Multiply your array by 0.5 (or divide by 2) to correct for this issue. "
   ]
  },
  {
   "cell_type": "code",
   "execution_count": 4,
   "metadata": {},
   "outputs": [
    {
     "name": "stdout",
     "output_type": "stream",
     "text": [
      "[0.67  1.005 0.875 0.75  1.25 ]\n"
     ]
    }
   ],
   "source": [
    "# fix the mistake here\n",
    "apples_price_array = 0.5*apples_price_array\n",
    "print(apples_price_array)\n",
    "# did the numbers in the array halve?"
   ]
  },
  {
   "cell_type": "markdown",
   "metadata": {},
   "source": [
    "You also recorded the price of cookies while shopping, and made a new list of prices for cookies. Turn it into an array, and then add it to your apples array to get your total cost of shopping per trip."
   ]
  },
  {
   "cell_type": "code",
   "execution_count": null,
   "metadata": {},
   "outputs": [],
   "source": []
  },
  {
   "cell_type": "code",
   "execution_count": 7,
   "metadata": {},
   "outputs": [
    {
     "name": "stdout",
     "output_type": "stream",
     "text": [
      "My cost per trip was:  [1.87 3.22 2.5  2.73 3.45]\n"
     ]
    }
   ],
   "source": [
    "# paste your apples_price_array declaration here\n",
    "apples_price = [1.34,2.01,1.75,1.50,2.50]\n",
    "apples_price_array = np.array(apples_price)\n",
    "\n",
    "cookies_price = [0.53,1.21,0.75,1.23,0.95]\n",
    "#create your array\n",
    "cookies_price_array = np.array(cookies_price)\n",
    "\n",
    "#add together the apples_price_array and the cookies_price_array here\n",
    "total_shopping_cost_per_trip = apples_price_array + cookies_price_array\n",
    "print('My cost per trip was: ',total_shopping_cost_per_trip)"
   ]
  },
  {
   "cell_type": "markdown",
   "metadata": {},
   "source": [
    "Your final array (``total_shopping_cost_per_trip``) tells you the cost of each of your trips to the grocery store over 5 trips. How much did you spend combined for all trips? Try Numpy's ``sum`` function."
   ]
  },
  {
   "cell_type": "code",
   "execution_count": 8,
   "metadata": {},
   "outputs": [
    {
     "name": "stdout",
     "output_type": "stream",
     "text": [
      "In total I spent:  13.77\n"
     ]
    }
   ],
   "source": [
    "total_cost_of_groceries = np.sum(total_shopping_cost_per_trip)\n",
    "print('In total I spent: ',total_cost_of_groceries)"
   ]
  },
  {
   "cell_type": "markdown",
   "metadata": {},
   "source": [
    "# Matplotlib\n",
    "You will use what you learned about finding the correct documentation and code help to implement functions inside of the Matplotlib package. This one is a little more complicated so we'll give you the first line for free. Matplotlib has a variety of components built into it, so that instead of simply importing the Matplotlib package and using its valuable functions, you need to call the ``pyplot`` module inside of Matplotlib. This won't really matter to you in terms of usage, except that when we say something like \"use the Matplotlib ``plot`` function\", you will run ``matplotlib.pyplot.plot`` instead of ``matplotlib.plot``."
   ]
  },
  {
   "cell_type": "markdown",
   "metadata": {},
   "source": [
    "Use the Matplotlib ``hist`` function to plot a histogram of the price data for apples that you implemented above."
   ]
  },
  {
   "cell_type": "code",
   "execution_count": 10,
   "metadata": {},
   "outputs": [
    {
     "data": {
      "image/png": "[encoded data removed]",
      "text/plain": [
       "<Figure size 432x288 with 1 Axes>"
      ]
     },
     "metadata": {
      "needs_background": "light"
     },
     "output_type": "display_data"
    }
   ],
   "source": [
    "import matplotlib.pyplot #your matplotlib import, note the added \".pyplot\"\n",
    "import numpy as np #your numpy import\n",
    "# replace your definition of the apples_price_array here:\n",
    "apples_price_array = np.array(apples_price)\n",
    "\n",
    "# create your histogram here:\n",
    "matplotlib.pyplot.hist(apples_price_array)\n",
    "\n",
    "matplotlib.pyplot.show() # This just shows your plot. You could also save it with \"savefig\""
   ]
  },
  {
   "cell_type": "markdown",
   "metadata": {},
   "source": [
    "Now use the Matplotlib ``scatter`` function to plot the price of cookies vs. the price of apples per trip to the grocery store (critical information to have!)"
   ]
  },
  {
   "cell_type": "code",
   "execution_count": 11,
   "metadata": {},
   "outputs": [
    {
     "data": {
      "image/png": "[encoded data removed]",
      "text/plain": [
       "<Figure size 432x288 with 1 Axes>"
      ]
     },
     "metadata": {
      "needs_background": "light"
     },
     "output_type": "display_data"
    }
   ],
   "source": [
    "# insert your implementation of the \"scatter\" function here\n",
    "matplotlib.pyplot.scatter(cookies_price_array, apples_price_array)\n",
    "\n",
    "matplotlib.pyplot.show() # This just shows your plot. You could also save it with \"savefig\""
   ]
  },
  {
   "cell_type": "markdown",
   "metadata": {},
   "source": [
    "Spend as much time as you want looking at matplotlib documentation and other sources to make your plots look better. Some ideas: Add axis labels, change the color of your data points, add a legend, etc. "
   ]
  },
  {
   "cell_type": "markdown",
   "metadata": {},
   "source": [
    "# Pandas\n",
    "You will use what you learned about finding the correct documentation and code help to implement functions inside of the Pandas package. Pandas is a very powerful package that makes it much simpler to interact with large datasets, data files, and excel files (plus much more). "
   ]
  },
  {
   "cell_type": "markdown",
   "metadata": {},
   "source": [
    "We're going to use pandas to read/write excel files"
   ]
  },
  {
   "cell_type": "code",
   "execution_count": 12,
   "metadata": {},
   "outputs": [
    {
     "name": "stdout",
     "output_type": "stream",
     "text": [
      "                 Timestamp Which of these foods do you prefer?  \\\n",
      "0  2020-07-15 17:24:36.976                               Pizza   \n",
      "1  2020-07-22 08:33:02.655                               Pizza   \n",
      "2  2020-07-22 08:33:04.292                               Salad   \n",
      "3  2020-07-22 08:33:04.308                               Salad   \n",
      "4  2020-07-22 08:33:24.067                               Pizza   \n",
      "5  2020-07-22 08:33:36.226                               Pizza   \n",
      "6  2020-07-22 08:33:44.258                                Cake   \n",
      "7  2020-07-22 08:33:52.396                                Cake   \n",
      "8  2020-07-22 08:34:11.469                               Pizza   \n",
      "9  2020-07-22 08:34:19.135                               Pizza   \n",
      "10 2020-07-22 08:34:23.163                               Pizza   \n",
      "11 2020-07-22 08:34:40.500                   None of the above   \n",
      "12 2020-07-22 08:34:41.687                                Cake   \n",
      "13 2020-07-22 08:34:41.759                               Pizza   \n",
      "14 2020-07-22 08:35:34.804                               Pizza   \n",
      "15 2020-07-22 08:35:53.681                               Pizza   \n",
      "16 2020-07-22 08:36:05.383                               Pizza   \n",
      "17 2020-07-22 08:36:06.309                               Pizza   \n",
      "18 2020-07-22 08:36:22.754                               Pizza   \n",
      "19 2020-07-22 08:36:27.259                               Salad   \n",
      "20 2020-07-22 08:36:58.164                               Salad   \n",
      "21 2020-07-22 08:37:08.640                               Salad   \n",
      "22 2020-07-22 08:38:20.196                               Salad   \n",
      "23 2020-07-22 08:41:11.009                               Pizza   \n",
      "24 2020-07-22 08:41:11.602                               Salad   \n",
      "25 2020-07-22 08:46:32.084                                Cake   \n",
      "26 2020-07-22 08:46:40.947                               Pizza   \n",
      "27 2020-07-22 08:47:17.485                               Pizza   \n",
      "28 2020-07-22 09:08:27.440                               Pizza   \n",
      "29 2020-07-22 09:25:43.356                               Salad   \n",
      "30 2020-07-22 09:38:28.866                               Salad   \n",
      "\n",
      "    How big of a Harry Potter fan are you?  \\\n",
      "0                                        5   \n",
      "1                                        4   \n",
      "2                                        2   \n",
      "3                                        4   \n",
      "4                                        3   \n",
      "5                                        4   \n",
      "6                                        5   \n",
      "7                                        5   \n",
      "8                                        4   \n",
      "9                                        3   \n",
      "10                                       4   \n",
      "11                                       3   \n",
      "12                                       1   \n",
      "13                                       2   \n",
      "14                                       4   \n",
      "15                                       2   \n",
      "16                                       1   \n",
      "17                                       2   \n",
      "18                                       4   \n",
      "19                                       3   \n",
      "20                                       4   \n",
      "21                                       1   \n",
      "22                                       3   \n",
      "23                                       2   \n",
      "24                                       1   \n",
      "25                                       4   \n",
      "26                                       2   \n",
      "27                                       3   \n",
      "28                                       2   \n",
      "29                                       1   \n",
      "30                                       3   \n",
      "\n",
      "   Please describe your Harry Potter fan level in one sentence.  \\\n",
      "0                         Favorite series of all time             \n",
      "1                                                Mega             \n",
      "2   Harry Potter is a boy child and an annoying ch...             \n",
      "3   I dressed up and went to the final book releas...             \n",
      "4   I've read all the books, but not seen all the ...             \n",
      "5                  They hold a lot of nostalgia value             \n",
      "6   I have read Harry Potter over 100 times, I lov...             \n",
      "7   I identify as a Hufflepuff before anything else.              \n",
      "8               Read all the books when they came out             \n",
      "9                                        It's alright             \n",
      "10  I started reading the books at age ten and hav...             \n",
      "11                                Harry Potter is ok.             \n",
      "12                         I don't like Harry Potter.             \n",
      "13            Read some books and watched some movies             \n",
      "14  I used to be really engaged with Harry Potter ...             \n",
      "15  Changed drastically since JK Rowling's TERF se...             \n",
      "16         I've never watched a movie or read a book.             \n",
      "17  Never finished reading them, and I haven't wat...             \n",
      "18  I love the Harry Potter world but I hate JK Ro...             \n",
      "19  Read all the books, watched some movie, hardly...             \n",
      "20                       You have your mother's eyes.             \n",
      "21       I never read the books or watched the movies             \n",
      "22                              I'm just indifferent              \n",
      "23  I liked it before it was a social media identi...             \n",
      "24                                          not a fan             \n",
      "25                                           Huge fan             \n",
      "26                                                Low             \n",
      "27  I've watched the movies, but haven't read the ...             \n",
      "28                                                meh             \n",
      "29  I read up to book 3 and could not get into it;...             \n",
      "30                                           moderate             \n",
      "\n",
      "   What is your favorite Ice Cream flavor?  What is your age?  \\\n",
      "0                         Cookies n' Cream                 27   \n",
      "1                                  Vanilla                 30   \n",
      "2                                 Grapenut                 37   \n",
      "3                                Chocolate                 29   \n",
      "4                                Chocolate                 41   \n",
      "5                                  Vanilla                 34   \n",
      "6                                Chocolate                 26   \n",
      "7                                    Other                 21   \n",
      "8                         Cookies n' Cream                 30   \n",
      "9                         Cookies n' Cream                 19   \n",
      "10                                 Vanilla                 20   \n",
      "11                                 Vanilla                 24   \n",
      "12                               Chocolate                 22   \n",
      "13                        Cookies n' Cream                 20   \n",
      "14                               Chocolate                 18   \n",
      "15                               Chocolate                 31   \n",
      "16                                 Vanilla                 18   \n",
      "17                                   Other                 21   \n",
      "18                        Cookies n' Cream                 30   \n",
      "19                                   Other                 31   \n",
      "20                                 Vanilla                 29   \n",
      "21                        Cookies n' Cream                 18   \n",
      "22                               Chocolate                 34   \n",
      "23                        Cookies n' Cream                 27   \n",
      "24                                 Vanilla                 24   \n",
      "25                                 Vanilla                 30   \n",
      "26                                   Other                 28   \n",
      "27                               Chocolate                 23   \n",
      "28                               Chocolate                 21   \n",
      "29                                   Other                 39   \n",
      "30                                 Vanilla                 27   \n",
      "\n",
      "   Which state are you from? (Leave blank if not applicable)  \\\n",
      "0                                               Maine          \n",
      "1                                                  SC          \n",
      "2                                                 NaN          \n",
      "3                                                  OH          \n",
      "4                                      South Carolina          \n",
      "5                                      South Carolina          \n",
      "6                                        Pennsylvania          \n",
      "7                                      South Carolina          \n",
      "8                                                  NY          \n",
      "9                                      South Carolina          \n",
      "10                                          New York           \n",
      "11                                               Iowa          \n",
      "12                                                 NC          \n",
      "13                                           maryland          \n",
      "14                                     South Carolina          \n",
      "15                                                NaN          \n",
      "16                                                NaN          \n",
      "17                                                NaN          \n",
      "18                                     South Carolina          \n",
      "19                                                NaN          \n",
      "20                                                NaN          \n",
      "21                                                 SC          \n",
      "22                                                 SC          \n",
      "23                                                 NY          \n",
      "24                                     South Carolina          \n",
      "25                                                 SC          \n",
      "26                                            Georgia          \n",
      "27                                                 SC          \n",
      "28                                                NaN          \n",
      "29                                              Maine          \n",
      "30                                                NaN          \n",
      "\n",
      "   Which country are you from?  \n",
      "0                United States  \n",
      "1                           US  \n",
      "2                United States  \n",
      "3                          USA  \n",
      "4                United States  \n",
      "5     United States of America  \n",
      "6                United States  \n",
      "7                United States  \n",
      "8                          USA  \n",
      "9                United States  \n",
      "10              United States   \n",
      "11               United States  \n",
      "12               United States  \n",
      "13                          US  \n",
      "14                       India  \n",
      "15                 Philippines  \n",
      "16                     Nigeria  \n",
      "17              United Kingdom  \n",
      "18               United States  \n",
      "19                      Russia  \n",
      "20                       China  \n",
      "21                      Merica  \n",
      "22                     Nigeria  \n",
      "23                      Canada  \n",
      "24                          US  \n",
      "25                         USA  \n",
      "26               United States  \n",
      "27                         USA  \n",
      "28                    Ukraine   \n",
      "29                         USA  \n",
      "30                       Nepal  \n"
     ]
    }
   ],
   "source": [
    "import pandas\n",
    "survey_responses = pandas.read_excel('https://github.com/uofscphysics/STEM_Python_Course/blob/Summer2020/01_Week1/05_PackagesIntro/participant_survey.xlsx?raw=true'\n",
    ")\n",
    "print(survey_responses)"
   ]
  },
  {
   "cell_type": "markdown",
   "metadata": {},
   "source": [
    "We will now go through each of the survey question responses and see what we can do with pandas, numpy, and matplotlib for each one. "
   ]
  },
  {
   "cell_type": "markdown",
   "metadata": {},
   "source": [
    "# Which  of these foods do you prefer?\n",
    "Try making a pie chart using matplotlib. "
   ]
  },
  {
   "cell_type": "code",
   "execution_count": 165,
   "metadata": {},
   "outputs": [
    {
     "data": {
      "image/png": "[encoded data removed]",
      "text/plain": [
       "<Figure size 432x288 with 1 Axes>"
      ]
     },
     "metadata": {},
     "output_type": "display_data"
    }
   ],
   "source": [
    "import matplotlib.pyplot as plt\n",
    "#Part you can change to fit all answers\n",
    "responses = survey_responses[\"Which of these foods do you prefer?\"]\n",
    "num_of_ans = len(responses)\n",
    "\n",
    "#Prints results of this survey question\n",
    "#print(\"Number of answers: \" , num_of_ans)\n",
    "#print(responses)\n",
    "\n",
    "#Putting all possible answer options in an array\n",
    "choices = []\n",
    "all_answers = []\n",
    "for x in responses:\n",
    "    if x not in choices:\n",
    "        choices = choices + [x]\n",
    "#print(choices) WORKS\n",
    "for x in responses:\n",
    "    all_answers = all_answers + [x]\n",
    "#print(all_answers) WORKS\n",
    "\n",
    "#adding the number of occurences of an answer choice to a different list\n",
    "occurences = []\n",
    "for x in choices:\n",
    "    count = all_answers.count(str(x))\n",
    "    occurences = occurences + [count]\n",
    "#pie chart specifics, matching foods to colors :3\n",
    "colors = [\"gold\",\"yellowgreen\",'lightskyblue','red']\n",
    "\n",
    "#create the pie chart\n",
    "plt.pie(occurences, labels = choices, colors = colors, shadow = True, startangle = 0)\n",
    "plt.title(\"Preference of Select Foods\")\n",
    "plt.legend(choices, loc=\"best\")\n",
    "plt.axis('equal')\n",
    "plt.tight_layout()\n",
    "plt.show()"
   ]
  },
  {
   "cell_type": "markdown",
   "metadata": {},
   "source": [
    "# How big of a Harry Potter Fan are you?\n",
    "Try making a histogram using pandas and/or matplotlib. Also take a look at things like `mean`, `median`, `std`, `max`, and `min` using numpy."
   ]
  },
  {
   "cell_type": "code",
   "execution_count": 24,
   "metadata": {},
   "outputs": [
    {
     "name": "stdout",
     "output_type": "stream",
     "text": [
      "Mean: 2.935483870967742\n",
      "Median: 3.0\n",
      "Standard Deviation: 1.2632097706759489\n",
      "Max: 5\n",
      "Min: 1\n"
     ]
    }
   ],
   "source": [
    "print(\"Mean: \" + str(survey_responses[\"How big of a Harry Potter fan are you?\"].mean()))\n",
    "print(\"Median: \" + str(survey_responses[\"How big of a Harry Potter fan are you?\"].median()))\n",
    "print(\"Standard Deviation: \" + str(survey_responses[\"How big of a Harry Potter fan are you?\"].std()))\n",
    "print(\"Max: \" + str(survey_responses[\"How big of a Harry Potter fan are you?\"].max()))\n",
    "print(\"Min: \" + str(survey_responses[\"How big of a Harry Potter fan are you?\"].min()))"
   ]
  },
  {
   "cell_type": "markdown",
   "metadata": {},
   "source": [
    "# What is your favorite Ice Cream Flavor?\n",
    "Try making a pie chart using matplotlib."
   ]
  },
  {
   "cell_type": "code",
   "execution_count": 162,
   "metadata": {},
   "outputs": [
    {
     "data": {
      "image/png": "[encoded data removed]",
      "text/plain": [
       "<Figure size 432x288 with 1 Axes>"
      ]
     },
     "metadata": {},
     "output_type": "display_data"
    }
   ],
   "source": [
    "import matplotlib.pyplot as plt\n",
    "#Part you can change to fit all answers\n",
    "responses = survey_responses[\"What is your favorite Ice Cream flavor?\"]\n",
    "num_of_ans = len(responses)\n",
    "\n",
    "#Prints results of this survey question, OPTIONAL\n",
    "#print(\"Number of answers: \" , num_of_ans)\n",
    "#print(responses)\n",
    "\n",
    "#Putting all possible answer options in an array\n",
    "choices = []\n",
    "all_answers = []\n",
    "for x in responses:\n",
    "    if x not in choices:\n",
    "        choices = choices + [x]\n",
    "#print(choices)\n",
    "for x in responses:\n",
    "    all_answers = all_answers + [x]\n",
    "#print(all_answers)\n",
    "\n",
    "#adding the number of occurences of an answer choice to a different list\n",
    "occurences = []\n",
    "for x in choices:\n",
    "    count = all_answers.count(str(x))\n",
    "    occurences = occurences + [count]\n",
    "    \n",
    "#creating pie chart\n",
    "colors = [\"darkblue\",'lightyellow','gold','brown','magenta']\n",
    "plt.pie(occurences, labels = choices, colors=colors, shadow = True,startangle = 45)\n",
    "plt.title(\"Favorite Ice Cream Flavors\")\n",
    "plt.legend(choices, loc=\"best\")\n",
    "plt.axis('equal')\n",
    "plt.tight_layout()\n",
    "plt.show()"
   ]
  },
  {
   "cell_type": "markdown",
   "metadata": {},
   "source": [
    "# What is your age?\n",
    "Try making a histogram using pandas and/or matplotlib. Also take a look at things like `mean`, `median`, `std`, `max`, and `min` using numpy."
   ]
  },
  {
   "cell_type": "code",
   "execution_count": 80,
   "metadata": {},
   "outputs": [
    {
     "name": "stdout",
     "output_type": "stream",
     "text": [
      "Mean: 26.741935483870968\n",
      "Median: 27.0\n",
      "Standard Deviation: 6.287382825603903\n",
      "Max: 41\n",
      "Min: 18\n"
     ]
    },
    {
     "data": {
      "image/png": "[encoded data removed]",
      "text/plain": [
       "<Figure size 432x288 with 1 Axes>"
      ]
     },
     "metadata": {
      "needs_background": "light"
     },
     "output_type": "display_data"
    }
   ],
   "source": [
    "survey_responses['What is your age?'].hist()\n",
    "print(\"Mean: \" + str(survey_responses[\"What is your age?\"].mean()))\n",
    "print(\"Median: \" + str(survey_responses[\"What is your age?\"].median()))\n",
    "print(\"Standard Deviation: \" + str(survey_responses[\"What is your age?\"].std()))\n",
    "print(\"Max: \" + str(survey_responses[\"What is your age?\"].max()))\n",
    "print(\"Min: \" + str(survey_responses[\"What is your age?\"].min()))"
   ]
  },
  {
   "cell_type": "markdown",
   "metadata": {},
   "source": [
    "# Which state are you  from? \n",
    "Try making a pie chart using matplotlib. Also take a look at `unique` from numpy."
   ]
  },
  {
   "cell_type": "code",
   "execution_count": 169,
   "metadata": {},
   "outputs": [
    {
     "name": "stdout",
     "output_type": "stream",
     "text": [
      "Number of answers:  31\n",
      "0              Maine\n",
      "1                 SC\n",
      "2                N/A\n",
      "3                 OH\n",
      "4     South Carolina\n",
      "5     South Carolina\n",
      "6       Pennsylvania\n",
      "7     South Carolina\n",
      "8                 NY\n",
      "9     South Carolina\n",
      "10         New York \n",
      "11              Iowa\n",
      "12                NC\n",
      "13          maryland\n",
      "14    South Carolina\n",
      "15               N/A\n",
      "16               N/A\n",
      "17               N/A\n",
      "18    South Carolina\n",
      "19               N/A\n",
      "20               N/A\n",
      "21                SC\n",
      "22                SC\n",
      "23                NY\n",
      "24    South Carolina\n",
      "25                SC\n",
      "26           Georgia\n",
      "27                SC\n",
      "28               N/A\n",
      "29             Maine\n",
      "30               N/A\n",
      "Name: Which state are you from? (Leave blank if not applicable), dtype: object\n",
      "['Maine', 'SC', 'N/A', 'OH', 'South Carolina', 'Pennsylvania', 'NY', 'New York ', 'Iowa', 'NC', 'maryland', 'Georgia']\n",
      "[2, 5, 8, 1, 7, 1, 2, 1, 1, 1, 1, 1]\n"
     ]
    },
    {
     "data": {
      "image/png": "[encoded data removed]",
      "text/plain": [
       "<Figure size 432x288 with 1 Axes>"
      ]
     },
     "metadata": {},
     "output_type": "display_data"
    }
   ],
   "source": [
    "import matplotlib.pyplot as plt\n",
    "#Part you can change to fit all answers\n",
    "responses = survey_responses[\"Which state are you from? (Leave blank if not applicable)\"].fillna(\"N/A\")\n",
    "\n",
    "#DO NOT CHANGE ANYTHING BELOW THIS\n",
    "num_of_ans = len(responses)\n",
    "\n",
    "#Prints results of this survey question, OPTIONAL\n",
    "print(\"Number of answers: \" , num_of_ans)\n",
    "print(responses)\n",
    "\n",
    "#Putting all possible answer options in an array\n",
    "choices = []\n",
    "all_answers = []\n",
    "null_choice = False\n",
    "for x in responses:\n",
    "    if x in choices:\n",
    "        pass\n",
    "    else:\n",
    "        choices = choices + [x]\n",
    "print(choices) \n",
    "for x in responses:\n",
    "    all_answers = all_answers + [x]\n",
    "#print(all_answers) WORKS\n",
    "\n",
    "#adding the number of occurences of an answer choice to a different list\n",
    "occurences = []\n",
    "for x in choices:\n",
    "    count = all_answers.count(str(x))\n",
    "    occurences = occurences + [count]\n",
    "print(occurences)\n",
    "    \n",
    "#SPECIFIC TO THIS PROBLEM\n",
    "#SC >> South Carolina\n",
    "remove = \"SC\"\n",
    "converge_with = \"South Carolina\"\n",
    "index_remove = choices.index(remove)\n",
    "index_keep = choices.index(converge_with)\n",
    "occurences[index_keep] = occurences[index_keep] + occurences[index_remove]\n",
    "del occurences[index_remove]\n",
    "del choices[index_remove]\n",
    "#\n",
    "#NY >> New York\n",
    "remove = \"NY\"\n",
    "converge_with = \"New York \" #unique answer here, space following\n",
    "index_remove = choices.index(remove)\n",
    "index_keep = choices.index(converge_with)\n",
    "occurences[index_keep] = occurences[index_keep] + occurences[index_remove]\n",
    "del occurences[index_remove]\n",
    "del choices[index_remove]\n",
    "#\n",
    "#renaming NC >> North Carolina (there are no original answers of 'North Carolina')\n",
    "choices[choices.index(\"NC\")] = \"North Carolina\"\n",
    "#\n",
    "#renaming OH >> Ohio\n",
    "choices[choices.index(\"OH\")] = \"Ohio\"\n",
    "#\n",
    "#renaming, capitalizing \"maryland\"\n",
    "choices[choices.index(\"maryland\")] = choices[choices.index(\"maryland\")].capitalize()\n",
    "\n",
    " \n",
    "#creating pie chart\n",
    "plt.pie(occurences, labels = choices, shadow = True, startangle = 3)\n",
    "plt.title(\"State of Origin\")\n",
    "plt.legend(choices, loc=\"best\")\n",
    "plt.axis('equal')\n",
    "plt.tight_layout()\n",
    "plt.show()"
   ]
  },
  {
   "cell_type": "markdown",
   "metadata": {},
   "source": [
    "# Which country are you from?\n",
    "Try making a pie chart using matplotlib. Also take a look at `unique` from numpy."
   ]
  },
  {
   "cell_type": "code",
   "execution_count": 96,
   "metadata": {},
   "outputs": [
    {
     "name": "stdout",
     "output_type": "stream",
     "text": [
      "Number of answers:  31\n",
      "0                United States\n",
      "1                           US\n",
      "2                United States\n",
      "3                          USA\n",
      "4                United States\n",
      "5     United States of America\n",
      "6                United States\n",
      "7                United States\n",
      "8                          USA\n",
      "9                United States\n",
      "10              United States \n",
      "11               United States\n",
      "12               United States\n",
      "13                          US\n",
      "14                       India\n",
      "15                 Philippines\n",
      "16                     Nigeria\n",
      "17              United Kingdom\n",
      "18               United States\n",
      "19                      Russia\n",
      "20                       China\n",
      "21                      Merica\n",
      "22                     Nigeria\n",
      "23                      Canada\n",
      "24                          US\n",
      "25                         USA\n",
      "26               United States\n",
      "27                         USA\n",
      "28                    Ukraine \n",
      "29                         USA\n",
      "30                       Nepal\n",
      "Name: Which country are you from?, dtype: object\n"
     ]
    },
    {
     "data": {
      "text/plain": [
       "([<matplotlib.patches.Wedge at 0x7f0eb69fa580>,\n",
       "  <matplotlib.patches.Wedge at 0x7f0eb69fa3a0>,\n",
       "  <matplotlib.patches.Wedge at 0x7f0eb69fad60>,\n",
       "  <matplotlib.patches.Wedge at 0x7f0eb69faac0>,\n",
       "  <matplotlib.patches.Wedge at 0x7f0eb6a81970>,\n",
       "  <matplotlib.patches.Wedge at 0x7f0eb6a816d0>,\n",
       "  <matplotlib.patches.Wedge at 0x7f0eb6a81dc0>,\n",
       "  <matplotlib.patches.Wedge at 0x7f0eb6b37400>,\n",
       "  <matplotlib.patches.Wedge at 0x7f0eb6b37c10>,\n",
       "  <matplotlib.patches.Wedge at 0x7f0eb6ad3100>,\n",
       "  <matplotlib.patches.Wedge at 0x7f0eb69df490>,\n",
       "  <matplotlib.patches.Wedge at 0x7f0eb6ad3e20>,\n",
       "  <matplotlib.patches.Wedge at 0x7f0eb6ae9b80>,\n",
       "  <matplotlib.patches.Wedge at 0x7f0eb6d1d6d0>,\n",
       "  <matplotlib.patches.Wedge at 0x7f0eb6a7a940>],\n",
       " [Text(0.5818604395536556, 0.933508665670773, 'United States'),\n",
       "  Text(-0.7578635556007388, 0.7972721185970358, 'US'),\n",
       "  Text(-1.0999999999999954, 1.0298943285007232e-07, 'USA'),\n",
       "  Text(-0.902839855549928, -0.6283949357136684, 'United States of America'),\n",
       "  Text(-0.7578637048927315, -0.7972719766844077, 'United States '),\n",
       "  Text(-0.581860526955042, -0.9335086111930628, 'India'),\n",
       "  Text(-0.38203591209310817, -1.0315272957470332, 'Philippines'),\n",
       "  Text(-0.055714238349465386, -1.098588150147788, 'Nigeria'),\n",
       "  Text(0.27571762789155874, -1.0648848715564758, 'United Kingdom'),\n",
       "  Text(0.484433414594573, -0.9875850681456473, 'Russia'),\n",
       "  Text(0.6733164415636503, -0.8698534184102882, 'China'),\n",
       "  Text(0.8346338159412022, -0.7165098696371375, 'Merica'),\n",
       "  Text(0.9617811858585257, -0.53383232435716, 'Canada'),\n",
       "  Text(1.049553123361229, -0.32929962229357196, 'Ukraine '),\n",
       "  Text(1.0943562352286353, -0.11128535580303443, 'Nepal')])"
      ]
     },
     "execution_count": 96,
     "metadata": {},
     "output_type": "execute_result"
    },
    {
     "data": {
      "image/png": "[encoded data removed]",
      "text/plain": [
       "<Figure size 432x288 with 1 Axes>"
      ]
     },
     "metadata": {},
     "output_type": "display_data"
    }
   ],
   "source": [
    "import matplotlib.pyplot as plt\n",
    "#Part you can change to fit all answers\n",
    "responses = survey_responses[\"Which country are you from?\"]\n",
    "\n",
    "#DO NOT CHANGE ANYTHING BELOW THIS\n",
    "num_of_ans = len(responses)\n",
    "\n",
    "#Prints results of this survey question\n",
    "print(\"Number of answers: \" , num_of_ans)\n",
    "print(responses)\n",
    "\n",
    "#Putting all possible answer options in an array\n",
    "choices = []\n",
    "all_answers = []\n",
    "for x in responses:\n",
    "    if x in choices:\n",
    "        pass\n",
    "    else:\n",
    "        choices = choices + [x]\n",
    "#print(choices) WORKS\n",
    "for x in responses:\n",
    "    all_answers = all_answers + [x]\n",
    "#print(all_answers) WORKS\n",
    "\n",
    "#adding the number of occurences of an answer choice to a different list\n",
    "occurences = []\n",
    "for x in choices:\n",
    "    count = all_answers.count(str(x))\n",
    "    occurences = occurences + [count]\n",
    "\n",
    "#creating pie chart\n",
    "plt.pie(occurences, labels = choices, size)"
   ]
  },
  {
   "cell_type": "code",
   "execution_count": 97,
   "metadata": {},
   "outputs": [
    {
     "name": "stdout",
     "output_type": "stream",
     "text": [
      "Finished with activity, but can use some modifications with the pie charts. :)\n"
     ]
    }
   ],
   "source": [
    "print(\"Finished with activity, but can use some modifications with the pie charts. :)\")"
   ]
  }
 ],
 "metadata": {
  "kernelspec": {
   "display_name": "Python 3",
   "language": "python",
   "name": "python3"
  },
  "language_info": {
   "codemirror_mode": {
    "name": "ipython",
    "version": 3
   },
   "file_extension": ".py",
   "mimetype": "text/x-python",
   "name": "python",
   "nbconvert_exporter": "python",
   "pygments_lexer": "ipython3",
   "version": "3.8.3"
  }
 },
 "nbformat": 4,
 "nbformat_minor": 2
}
